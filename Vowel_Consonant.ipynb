{
 "cells": [
  {
   "cell_type": "code",
   "execution_count": 8,
   "id": "b40abf86",
   "metadata": {},
   "outputs": [
    {
     "name": "stdout",
     "output_type": "stream",
     "text": [
      "Enter a string: i\n",
      "VOWEL\n"
     ]
    }
   ],
   "source": [
    "def vowel(string):\n",
    "    if (string == 'a' or string == 'e' or string == 'i' or string == 'o' or string == 'u'):\n",
    "        print(\"VOWEL\")\n",
    "    else:\n",
    "        print(\"CONSONANT\")\n",
    "string = input(\"Enter a string: \")\n",
    "vowel(string)"
   ]
  },
  {
   "cell_type": "code",
   "execution_count": 12,
   "id": "a81b3c5c",
   "metadata": {},
   "outputs": [
    {
     "name": "stdout",
     "output_type": "stream",
     "text": [
      "5\n"
     ]
    }
   ],
   "source": [
    "def vowel_count(str):\n",
    "    count = 0\n",
    "    vowel = set(\"AaEeIiOoUu\")\n",
    "    for alphabet in str:\n",
    "        if alphabet in vowel:\n",
    "            count = count+1\n",
    "    print(count)\n",
    "    \n",
    "string = \"GeEksfOrgeeks\"\n",
    "vowel_count(string)"
   ]
  },
  {
   "cell_type": "code",
   "execution_count": 18,
   "id": "229f06c6",
   "metadata": {},
   "outputs": [
    {
     "data": {
      "text/plain": [
       "3"
      ]
     },
     "execution_count": 18,
     "metadata": {},
     "output_type": "execute_result"
    }
   ],
   "source": [
    "def vcount(string1):\n",
    "    count = 0\n",
    "    vowel = set(\"AaEeIiOoUu\")\n",
    "    for alphabet in string1:\n",
    "        if alphabet in vowel:\n",
    "             count = count+1\n",
    "    return count\n",
    "string1 = \"Ankita\"\n",
    "vcount(string1)"
   ]
  },
  {
   "cell_type": "code",
   "execution_count": null,
   "id": "2a02a1fc",
   "metadata": {},
   "outputs": [],
   "source": []
  }
 ],
 "metadata": {
  "kernelspec": {
   "display_name": "Python 3 (ipykernel)",
   "language": "python",
   "name": "python3"
  },
  "language_info": {
   "codemirror_mode": {
    "name": "ipython",
    "version": 3
   },
   "file_extension": ".py",
   "mimetype": "text/x-python",
   "name": "python",
   "nbconvert_exporter": "python",
   "pygments_lexer": "ipython3",
   "version": "3.10.4"
  }
 },
 "nbformat": 4,
 "nbformat_minor": 5
}

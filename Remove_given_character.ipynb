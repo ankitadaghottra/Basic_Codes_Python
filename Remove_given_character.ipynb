{
 "cells": [
  {
   "cell_type": "code",
   "execution_count": 1,
   "id": "424dd32b",
   "metadata": {},
   "outputs": [
    {
     "name": "stdout",
     "output_type": "stream",
     "text": [
      "Ankta\n"
     ]
    }
   ],
   "source": [
    "string = \"Ankita\"\n",
    "new_string = \"\"\n",
    "\n",
    "for i in range(len(string)):\n",
    "    if i != 3:\n",
    "        new_string = new_string + string[i]\n",
    "print(new_string)"
   ]
  },
  {
   "cell_type": "code",
   "execution_count": 18,
   "id": "25479887",
   "metadata": {},
   "outputs": [
    {
     "name": "stdout",
     "output_type": "stream",
     "text": [
      "Anita\n"
     ]
    }
   ],
   "source": [
    "string1 = \"Ankita\"\n",
    "new_str = \"\"\n",
    "for i in range(len(string1)):\n",
    "    if i != 2:\n",
    "        new_str = new_str + string1[i]\n",
    "print(new_str)"
   ]
  },
  {
   "cell_type": "code",
   "execution_count": 19,
   "id": "e5528923",
   "metadata": {},
   "outputs": [
    {
     "name": "stdout",
     "output_type": "stream",
     "text": [
      "Inia\n"
     ]
    }
   ],
   "source": [
    "s = \"India\"\n",
    "str = \"\"\n",
    "for i in range(len(s)):\n",
    "    if i != 2:\n",
    "        str = str + s[i]\n",
    "        \n",
    "print(str)"
   ]
  },
  {
   "cell_type": "code",
   "execution_count": null,
   "id": "4a7c5d86",
   "metadata": {},
   "outputs": [],
   "source": []
  }
 ],
 "metadata": {
  "kernelspec": {
   "display_name": "Python 3 (ipykernel)",
   "language": "python",
   "name": "python3"
  },
  "language_info": {
   "codemirror_mode": {
    "name": "ipython",
    "version": 3
   },
   "file_extension": ".py",
   "mimetype": "text/x-python",
   "name": "python",
   "nbconvert_exporter": "python",
   "pygments_lexer": "ipython3",
   "version": "3.10.4"
  }
 },
 "nbformat": 4,
 "nbformat_minor": 5
}

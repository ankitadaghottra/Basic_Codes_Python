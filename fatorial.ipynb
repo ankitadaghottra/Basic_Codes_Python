{
 "cells": [
  {
   "cell_type": "code",
   "execution_count": 6,
   "id": "30d0a404",
   "metadata": {},
   "outputs": [
    {
     "name": "stdout",
     "output_type": "stream",
     "text": [
      "Enter a number: 5\n"
     ]
    },
    {
     "data": {
      "text/plain": [
       "120"
      ]
     },
     "execution_count": 6,
     "metadata": {},
     "output_type": "execute_result"
    }
   ],
   "source": [
    "num = int(input(\"Enter a number: \"))\n",
    "\n",
    "def factorial(n):\n",
    "    fac = 1\n",
    "    for i in range(1, n+1):\n",
    "        if n < 0:\n",
    "            print(\"Invalid Input!\")\n",
    "        else:\n",
    "            fac = fac*i\n",
    "    return fac\n",
    "factorial(num)"
   ]
  },
  {
   "cell_type": "code",
   "execution_count": 14,
   "id": "ecb7136e",
   "metadata": {},
   "outputs": [
    {
     "name": "stdout",
     "output_type": "stream",
     "text": [
      "Enter a number: 5\n",
      "120\n"
     ]
    }
   ],
   "source": [
    "def f(x):\n",
    "    factorial = 1\n",
    "    for i in range(1, x+1):\n",
    "            if x < 0:\n",
    "                print(\"Invalid Input!\")\n",
    "            else:\n",
    "                factorial = factorial*i\n",
    "    return factorial\n",
    "x1 = int(input(\"Enter a number: \"))\n",
    "print(f(x1))\n",
    "# number = input(\"Enter a number: \")\n",
    "# f(number)"
   ]
  },
  {
   "cell_type": "code",
   "execution_count": null,
   "id": "c8d6d3ea",
   "metadata": {},
   "outputs": [],
   "source": []
  }
 ],
 "metadata": {
  "kernelspec": {
   "display_name": "Python 3 (ipykernel)",
   "language": "python",
   "name": "python3"
  },
  "language_info": {
   "codemirror_mode": {
    "name": "ipython",
    "version": 3
   },
   "file_extension": ".py",
   "mimetype": "text/x-python",
   "name": "python",
   "nbconvert_exporter": "python",
   "pygments_lexer": "ipython3",
   "version": "3.10.4"
  }
 },
 "nbformat": 4,
 "nbformat_minor": 5
}

{
 "cells": [
  {
   "cell_type": "code",
   "execution_count": 6,
   "id": "d585deff",
   "metadata": {},
   "outputs": [
    {
     "name": "stdout",
     "output_type": "stream",
     "text": [
      "Enter a string: maam\n",
      "Enter the element: a\n",
      "2\n"
     ]
    }
   ],
   "source": [
    "string = input(\"Enter a string: \")\n",
    "n = input(\"Enter the element: \")\n",
    "count = 0\n",
    "for i in string:\n",
    "    if i == n:\n",
    "        count = count + 1\n",
    "print(count)"
   ]
  },
  {
   "cell_type": "code",
   "execution_count": 14,
   "id": "1da08456",
   "metadata": {},
   "outputs": [
    {
     "name": "stdout",
     "output_type": "stream",
     "text": [
      "ENter your String: ankita\n",
      "Enter the element: a\n",
      "2\n"
     ]
    }
   ],
   "source": [
    "str = input(\"ENter your String: \")\n",
    "x = input(\"Enter the element: \")\n",
    "count = 0\n",
    "for i in str:\n",
    "    if i == x:\n",
    "        count = count+1\n",
    "print(count)"
   ]
  },
  {
   "cell_type": "code",
   "execution_count": null,
   "id": "a0788893",
   "metadata": {},
   "outputs": [],
   "source": []
  }
 ],
 "metadata": {
  "kernelspec": {
   "display_name": "Python 3 (ipykernel)",
   "language": "python",
   "name": "python3"
  },
  "language_info": {
   "codemirror_mode": {
    "name": "ipython",
    "version": 3
   },
   "file_extension": ".py",
   "mimetype": "text/x-python",
   "name": "python",
   "nbconvert_exporter": "python",
   "pygments_lexer": "ipython3",
   "version": "3.10.4"
  }
 },
 "nbformat": 4,
 "nbformat_minor": 5
}

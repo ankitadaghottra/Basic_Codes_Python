{
 "cells": [
  {
   "cell_type": "code",
   "execution_count": 10,
   "id": "95744b14",
   "metadata": {},
   "outputs": [
    {
     "name": "stdout",
     "output_type": "stream",
     "text": [
      "Enter a number: 7\n",
      "Number is Prime\n"
     ]
    }
   ],
   "source": [
    "def prime(n):\n",
    "    count = 0\n",
    "    if n > 0:\n",
    "        for i in range(1,n + 1):\n",
    "            if(n%i) == 0:\n",
    "                count = count + 1\n",
    "        if (count) ==2:\n",
    "            print(\"Number is Prime\")\n",
    "        else:\n",
    "            print(\"Number is NOT prime\")\n",
    "            \n",
    "x = int(input(\"Enter a number: \"))\n",
    "prime(x)"
   ]
  },
  {
   "cell_type": "code",
   "execution_count": 13,
   "id": "656ca538",
   "metadata": {},
   "outputs": [
    {
     "name": "stdout",
     "output_type": "stream",
     "text": [
      "Enter a  number: 12\n",
      "NON-PRIME\n"
     ]
    }
   ],
   "source": [
    "def IsPrime(num):\n",
    "    count = 0\n",
    "    if num > 1:\n",
    "        for i in range(1,num+1):\n",
    "            if num%i == 0:\n",
    "                count = count + 1\n",
    "        if count == 2:\n",
    "            print(\"PRIME\")\n",
    "        else:\n",
    "            print(\"NON-PRIME\")\n",
    "            \n",
    "num = int(input(\"Enter a  number: \"))\n",
    "IsPrime(num)"
   ]
  },
  {
   "cell_type": "code",
   "execution_count": null,
   "id": "9dfce3ee",
   "metadata": {},
   "outputs": [],
   "source": []
  }
 ],
 "metadata": {
  "kernelspec": {
   "display_name": "Python 3 (ipykernel)",
   "language": "python",
   "name": "python3"
  },
  "language_info": {
   "codemirror_mode": {
    "name": "ipython",
    "version": 3
   },
   "file_extension": ".py",
   "mimetype": "text/x-python",
   "name": "python",
   "nbconvert_exporter": "python",
   "pygments_lexer": "ipython3",
   "version": "3.10.4"
  }
 },
 "nbformat": 4,
 "nbformat_minor": 5
}

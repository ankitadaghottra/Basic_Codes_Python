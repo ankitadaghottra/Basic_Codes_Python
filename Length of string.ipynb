{
 "cells": [
  {
   "cell_type": "code",
   "execution_count": 15,
   "id": "55566bd8",
   "metadata": {},
   "outputs": [
    {
     "data": {
      "text/plain": [
       "3"
      ]
     },
     "execution_count": 15,
     "metadata": {},
     "output_type": "execute_result"
    }
   ],
   "source": [
    "\n",
    "string = \"abc\"\n",
    "def length(string):\n",
    "    count = 0\n",
    "    for i in string:\n",
    "        count += 1\n",
    "    return count\n",
    "length(string)"
   ]
  },
  {
   "cell_type": "code",
   "execution_count": 17,
   "id": "a17cf088",
   "metadata": {},
   "outputs": [
    {
     "name": "stdout",
     "output_type": "stream",
     "text": [
      "Enter a string: abc\n",
      "3\n"
     ]
    }
   ],
   "source": [
    "str = input(\"Enter a string: \")\n",
    "def L(str):\n",
    "    count = 0\n",
    "    for i in str:\n",
    "        count += 1\n",
    "    return count\n",
    "print(L(str))"
   ]
  },
  {
   "cell_type": "code",
   "execution_count": null,
   "id": "4bcd2052",
   "metadata": {},
   "outputs": [],
   "source": []
  }
 ],
 "metadata": {
  "kernelspec": {
   "display_name": "Python 3 (ipykernel)",
   "language": "python",
   "name": "python3"
  },
  "language_info": {
   "codemirror_mode": {
    "name": "ipython",
    "version": 3
   },
   "file_extension": ".py",
   "mimetype": "text/x-python",
   "name": "python",
   "nbconvert_exporter": "python",
   "pygments_lexer": "ipython3",
   "version": "3.10.4"
  }
 },
 "nbformat": 4,
 "nbformat_minor": 5
}

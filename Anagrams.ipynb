{
 "cells": [
  {
   "cell_type": "code",
   "execution_count": 2,
   "id": "1d09df67",
   "metadata": {},
   "outputs": [
    {
     "name": "stdout",
     "output_type": "stream",
     "text": [
      "Enter the 1st string: ankita\n",
      "Enter 2nd string: india\n",
      "Not-Anagram!\n"
     ]
    }
   ],
   "source": [
    "str1 = input(\"Enter the 1st string: \")\n",
    "str2 = input(\"Enter 2nd string: \")\n",
    "\n",
    "def anagram(x,y):\n",
    "    if (sorted(x) == sorted(y)):\n",
    "        print(\"Anagram!\")\n",
    "    else:\n",
    "        print(\"Not-Anagram!\")\n",
    "        \n",
    "anagram(str1,str2)"
   ]
  },
  {
   "cell_type": "code",
   "execution_count": 6,
   "id": "a30f30be",
   "metadata": {},
   "outputs": [
    {
     "name": "stdout",
     "output_type": "stream",
     "text": [
      "Enter the 1st string: aab\n",
      "Enter the 2nd string: aac\n",
      "No\n"
     ]
    }
   ],
   "source": [
    "string1 = input(\"Enter the 1st string: \")\n",
    "string2 = input(\"Enter the 2nd string: \")\n",
    "\n",
    "def isAnagram(a,b):\n",
    "    if(sorted(a) == sorted(b)):\n",
    "        print(\"Yes\")\n",
    "    else:\n",
    "        print(\"No\")\n",
    "        \n",
    "isAnagram(string1, string2)"
   ]
  },
  {
   "cell_type": "code",
   "execution_count": null,
   "id": "54d6c9bf",
   "metadata": {},
   "outputs": [],
   "source": []
  }
 ],
 "metadata": {
  "kernelspec": {
   "display_name": "Python 3 (ipykernel)",
   "language": "python",
   "name": "python3"
  },
  "language_info": {
   "codemirror_mode": {
    "name": "ipython",
    "version": 3
   },
   "file_extension": ".py",
   "mimetype": "text/x-python",
   "name": "python",
   "nbconvert_exporter": "python",
   "pygments_lexer": "ipython3",
   "version": "3.10.4"
  }
 },
 "nbformat": 4,
 "nbformat_minor": 5
}

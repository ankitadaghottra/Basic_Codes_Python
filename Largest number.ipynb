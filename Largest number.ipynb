{
 "cells": [
  {
   "cell_type": "markdown",
   "id": "96e73e05",
   "metadata": {},
   "source": [
    "**1. Largest of Two**"
   ]
  },
  {
   "cell_type": "code",
   "execution_count": 4,
   "id": "2c513cc2",
   "metadata": {},
   "outputs": [
    {
     "name": "stdout",
     "output_type": "stream",
     "text": [
      "Enter the 1st number: 1\n",
      "Enter the 2nd number: 2\n",
      "The largest number is:  2\n"
     ]
    }
   ],
   "source": [
    "num1 = int(input(\"Enter the 1st number: \"))\n",
    "num2 = int(input(\"Enter the 2nd number: \"))\n",
    "\n",
    "if num1 > num2:\n",
    "    print(num1)\n",
    "else:\n",
    "    print(\"The largest number is: \",num2)\n",
    "\n"
   ]
  },
  {
   "cell_type": "code",
   "execution_count": 7,
   "id": "2430fb17",
   "metadata": {},
   "outputs": [
    {
     "name": "stdout",
     "output_type": "stream",
     "text": [
      "Enter 1st number: 23\n",
      "Enter 2nd number: 99\n",
      "The Largest number is:  99\n"
     ]
    }
   ],
   "source": [
    "def lar(x,y):\n",
    "    if x > y:\n",
    "        print(\"The Largest number is: \",x)\n",
    "    else:\n",
    "        print(\"The Largest number is: \",y)\n",
    "number1 = int(input(\"Enter 1st number: \"))\n",
    "number2 = int(input(\"Enter 2nd number: \"))\n",
    "lar(number1, number2)"
   ]
  },
  {
   "cell_type": "code",
   "execution_count": null,
   "id": "d23671bd",
   "metadata": {},
   "outputs": [],
   "source": []
  }
 ],
 "metadata": {
  "kernelspec": {
   "display_name": "Python 3 (ipykernel)",
   "language": "python",
   "name": "python3"
  },
  "language_info": {
   "codemirror_mode": {
    "name": "ipython",
    "version": 3
   },
   "file_extension": ".py",
   "mimetype": "text/x-python",
   "name": "python",
   "nbconvert_exporter": "python",
   "pygments_lexer": "ipython3",
   "version": "3.10.4"
  }
 },
 "nbformat": 4,
 "nbformat_minor": 5
}

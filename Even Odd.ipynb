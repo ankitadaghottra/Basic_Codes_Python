{
 "cells": [
  {
   "cell_type": "code",
   "execution_count": 2,
   "id": "1a6113ff",
   "metadata": {},
   "outputs": [
    {
     "name": "stdout",
     "output_type": "stream",
     "text": [
      "Enter a number: 9\n",
      "Odd\n"
     ]
    }
   ],
   "source": [
    "def evenodd(num):\n",
    "    if num > 1:\n",
    "        if num%2 == 0:\n",
    "            print(\"Even\")\n",
    "        else:\n",
    "            print(\"Odd\")\n",
    "x = int(input(\"Enter a number: \"))\n",
    "evenodd(x)"
   ]
  },
  {
   "cell_type": "code",
   "execution_count": null,
   "id": "2b7a29e1",
   "metadata": {},
   "outputs": [],
   "source": []
  }
 ],
 "metadata": {
  "kernelspec": {
   "display_name": "Python 3 (ipykernel)",
   "language": "python",
   "name": "python3"
  },
  "language_info": {
   "codemirror_mode": {
    "name": "ipython",
    "version": 3
   },
   "file_extension": ".py",
   "mimetype": "text/x-python",
   "name": "python",
   "nbconvert_exporter": "python",
   "pygments_lexer": "ipython3",
   "version": "3.10.4"
  }
 },
 "nbformat": 4,
 "nbformat_minor": 5
}

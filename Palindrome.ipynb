{
 "cells": [
  {
   "cell_type": "code",
   "execution_count": 5,
   "id": "ab910b47",
   "metadata": {},
   "outputs": [
    {
     "name": "stdout",
     "output_type": "stream",
     "text": [
      "ENter your string: maam\n",
      "Yes\n",
      "Yes\n"
     ]
    }
   ],
   "source": [
    "string = input(\"ENter your string: \")\n",
    "\n",
    "def IsPal(s):\n",
    "    for i in range(0, int(len(s)/2)):\n",
    "        if s[i] == s[len(s)-i-1]:\n",
    "            print(\"Yes\")\n",
    "        else:\n",
    "            print(\"No\")\n",
    "            \n",
    "IsPal(string)"
   ]
  },
  {
   "cell_type": "code",
   "execution_count": 7,
   "id": "fec4a5c4",
   "metadata": {},
   "outputs": [
    {
     "name": "stdout",
     "output_type": "stream",
     "text": [
      "Enter your string: maam\n",
      "True\n"
     ]
    }
   ],
   "source": [
    "str = input(\"Enter your string: \")\n",
    "\n",
    "def palindrome(str):\n",
    "    for i in range(0,int(len(str)/2)):\n",
    "        if str[i] == str[len(str)-i-1]:\n",
    "            return True\n",
    "    return False\n",
    "print(palindrome(str))"
   ]
  },
  {
   "cell_type": "code",
   "execution_count": null,
   "id": "0edb379b",
   "metadata": {},
   "outputs": [],
   "source": []
  }
 ],
 "metadata": {
  "kernelspec": {
   "display_name": "Python 3 (ipykernel)",
   "language": "python",
   "name": "python3"
  },
  "language_info": {
   "codemirror_mode": {
    "name": "ipython",
    "version": 3
   },
   "file_extension": ".py",
   "mimetype": "text/x-python",
   "name": "python",
   "nbconvert_exporter": "python",
   "pygments_lexer": "ipython3",
   "version": "3.10.4"
  }
 },
 "nbformat": 4,
 "nbformat_minor": 5
}

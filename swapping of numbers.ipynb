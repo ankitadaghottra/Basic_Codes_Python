{
 "cells": [
  {
   "cell_type": "code",
   "execution_count": 2,
   "id": "abb6cdf7",
   "metadata": {},
   "outputs": [
    {
     "name": "stdout",
     "output_type": "stream",
     "text": [
      "a: 12\n",
      "b: 45\n",
      "-------AFTER SWAPPING-------\n",
      "a:  45\n",
      "b:  12\n"
     ]
    }
   ],
   "source": [
    "\n",
    "a = int(input(\"a: \"))\n",
    "b =int(input(\"b: \"))\n",
    "print(\"-------AFTER SWAPPING-------\")\n",
    "temp = a\n",
    "a = b\n",
    "b = temp\n",
    "print(\"a: \",a)\n",
    "print(\"b: \",b)"
   ]
  },
  {
   "cell_type": "code",
   "execution_count": null,
   "id": "56b3a105",
   "metadata": {},
   "outputs": [],
   "source": []
  }
 ],
 "metadata": {
  "kernelspec": {
   "display_name": "Python 3 (ipykernel)",
   "language": "python",
   "name": "python3"
  },
  "language_info": {
   "codemirror_mode": {
    "name": "ipython",
    "version": 3
   },
   "file_extension": ".py",
   "mimetype": "text/x-python",
   "name": "python",
   "nbconvert_exporter": "python",
   "pygments_lexer": "ipython3",
   "version": "3.10.4"
  }
 },
 "nbformat": 4,
 "nbformat_minor": 5
}
